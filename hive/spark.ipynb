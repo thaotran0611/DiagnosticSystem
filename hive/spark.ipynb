{
 "cells": [
  {
   "cell_type": "code",
   "execution_count": 1,
   "metadata": {},
   "outputs": [],
   "source": [
    "from pyspark.sql import SparkSession\n",
    "spark = SparkSession.builder\\\n",
    "                    .appName(\"test\") \\\n",
    "                    .master(\"local[4]\") \\\n",
    "                    .config(\"spark.jars.packages\", \"mysql:mysql-connector-java:8.0.13,org.apache.spark:spark-hive_2.12:3.2.1\") \\\n",
    "                    .config(\"spark.sql.warehouse.dir\", \"/opt/hive/data/warehouse\") \\\n",
    "                    .config(\"hive.metastore.uris\", \"thrift://localhost:9083\") \\\n",
    "                    .config(\"spark.sql.parquet.int96RebaseModeInWrite\", \"LEGACY\") \\\n",
    "                    .config(\"spark.executor.memory\", \"8g\") \\\n",
    "                    .config(\"spark.driver.memory\", \"4g\") \\\n",
    "                    .config(\"spark.executor.instances\", \"4\") \\\n",
    "                    .config(\"spark.executor.cores\", \"4\") \\\n",
    "                    .config(\"spark.driver.cores\", \"2\") \\\n",
    "                    .enableHiveSupport() \\\n",
    "                    .getOrCreate()\n",
    "spark.conf.set(\"spark.sql.hive.convertCTAS\", \"true\")"
   ]
  },
  {
   "cell_type": "code",
   "execution_count": null,
   "metadata": {},
   "outputs": [],
   "source": [
    "# from sqlalchemy import create_engine\n",
    "# from sqlalchemy import MetaData\n",
    "\n",
    "# MYSQL_HOST = \"localhost\"\n",
    "# MYSQL_USER = \"root\"\n",
    "# MYSQL_PASSWORD = \"Thao0611*\"\n",
    "# MYSQL_DB = \"dacn\"\n",
    "\n",
    "# SQLALCHEMY_DATABASE_URL = f\"mysql+mysqlconnector://{MYSQL_USER}:{MYSQL_PASSWORD}@{MYSQL_HOST}/{MYSQL_DB}\"\n",
    "# # Create a SQLAlchemy engine\n",
    "# engine = create_engine(SQLALCHEMY_DATABASE_URL)\n",
    "# m = MetaData()\n",
    "# m.reflect(engine)\n",
    "# tables = []\n",
    "# for table in m.tables.values():\n",
    "#     tables.append(table.name)\n",
    "# print(tables)\n"
   ]
  },
  {
   "cell_type": "code",
   "execution_count": 4,
   "metadata": {},
   "outputs": [],
   "source": [
    "#exist_tables = ['do_d_items']\n",
    "tables = ['disease_note', 'files', 'drug_note', 'load_data_manual', 'get_date_schedule', 'user_action_log', 'users_note', 'procedureevents_mv','users']\n"
   ]
  },
  {
   "cell_type": "code",
   "execution_count": 5,
   "metadata": {},
   "outputs": [
    {
     "name": "stdout",
     "output_type": "stream",
     "text": [
      "users\n"
     ]
    }
   ],
   "source": [
    "for table in tables[8:]:\n",
    "\n",
    "    print(table)\n",
    "    df = spark.read \\\n",
    "        .format(\"jdbc\") \\\n",
    "        .option(\"driver\",\"com.mysql.cj.jdbc.Driver\") \\\n",
    "        .option(\"url\", \"jdbc:mysql://localhost:3306/dacn?useSSL=false\") \\\n",
    "        .option(\"dbtable\", f\"{table}\") \\\n",
    "        .option(\"user\", \"root\") \\\n",
    "        .option(\"password\", \"Thao0611*\") \\\n",
    "        .load()\n",
    "    spark.sql(\"CREATE DATABASE IF NOT EXISTS mimic_iii\")\n",
    "    df.write.mode(\"overwrite\").saveAsTable(f\"mimic_iii.{table}\")\n",
    "    "
   ]
  },
  {
   "cell_type": "code",
   "execution_count": null,
   "metadata": {},
   "outputs": [],
   "source": [
    "spark.stop()"
   ]
  }
 ],
 "metadata": {
  "kernelspec": {
   "display_name": "venv",
   "language": "python",
   "name": "python3"
  },
  "language_info": {
   "codemirror_mode": {
    "name": "ipython",
    "version": 3
   },
   "file_extension": ".py",
   "mimetype": "text/x-python",
   "name": "python",
   "nbconvert_exporter": "python",
   "pygments_lexer": "ipython3",
   "version": "3.10.3"
  }
 },
 "nbformat": 4,
 "nbformat_minor": 2
}
